{
 "cells": [
  {
   "cell_type": "markdown",
   "id": "b2ee9aff",
   "metadata": {},
   "source": [
    "#                          Análise de Ecommerce Utilizando Power Bi"
   ]
  },
  {
   "cell_type": "markdown",
   "id": "ad0b5b41",
   "metadata": {},
   "source": [
    "<img src=\"https://raw.githubusercontent.com/rgizsilva/Analise_Ecommerce_lojas-rgiz/main/Capa_Analise_Ecommerce.png\" alt=\"drawing\" width=\"600\"/>"
   ]
  },
  {
   "cell_type": "markdown",
   "id": "bbce5b6c",
   "metadata": {},
   "source": [
    "[![](https://img.shields.io/badge/Linkedin-Reginaldo-blue )](https://www.linkedin.com/in/rgiz/)"
   ]
  },
  {
   "cell_type": "markdown",
   "id": "91173526",
   "metadata": {},
   "source": [
    "### O objetivo desse projeto é desenvolver relatórios analíticos para acompanhar as vendas de uma empresa de ecommerce."
   ]
  },
  {
   "cell_type": "markdown",
   "id": "2190a181",
   "metadata": {},
   "source": [
    "Os dados foram obtidos diretamente do DataWarehouse ,Planilhas e Api de monitoramento de Campanhas."
   ]
  },
  {
   "cell_type": "markdown",
   "id": "7a751790",
   "metadata": {},
   "source": [
    "#### Dicionário de dados encontra-se no link abaixo:\n",
    "\n"
   ]
  },
  {
   "cell_type": "markdown",
   "id": "67f60fcf",
   "metadata": {},
   "source": [
    "https://github.com/rgizsilva/Analise_Ecommerce_lojas-rgiz/blob/main/Dicionario_dados.txt"
   ]
  },
  {
   "cell_type": "markdown",
   "id": "5d6cfad7",
   "metadata": {},
   "source": [
    "A primeira parte do projeto foi levantar os requisitos de negócio para mapear quais dados seriam extraídos para serem analisados. \n",
    "Uma vez definido o escopo dos dados, realizei a modelagem no **Power Bi** extraindo os dados diretamente das fontes, fazendo algumas correções nos tipos de dados e definindo os relacionamentos entre as tabelas. No projeto, optei pela modelagem **Star Schema**."
   ]
  },
  {
   "cell_type": "markdown",
   "id": "c0775fbc",
   "metadata": {},
   "source": [
    "<img src=\"https://raw.githubusercontent.com/rgizsilva/Analise_Ecommerce_lojas-rgiz/main/modelagem.png\" alt=\"drawing\" width=\"600\"/>"
   ]
  },
  {
   "cell_type": "markdown",
   "id": "2d55e70e",
   "metadata": {},
   "source": [
    "O segundo passo foi definir a criação dos visuais. Para facilitar a compreensão, optei por dividir o relatório em 5 páginas. Um relatório para **vendas**, um para **produtos**, um para **logística**, um para **campanha de marketing** e por último uma página com visualizações de **cenários**."
   ]
  },
  {
   "cell_type": "markdown",
   "id": "c7b2fcbc",
   "metadata": {},
   "source": [
    "## Relatório de Vendas"
   ]
  },
  {
   "cell_type": "markdown",
   "id": "0905ec75",
   "metadata": {},
   "source": [
    "<img src=\"https://raw.githubusercontent.com/rgizzzzzzz/testes/main/1.png\" alt=\"drawing\" width=\"600\"/>"
   ]
  },
  {
   "cell_type": "markdown",
   "id": "d7e2e455",
   "metadata": {},
   "source": [
    "Para o relatório de vendas, utilizei os seguintes indicadores e visualizações:"
   ]
  },
  {
   "cell_type": "markdown",
   "id": "38dedea9",
   "metadata": {},
   "source": [
    "**Faturamento e Previsão das Vendas por Dia**\n",
    "- Nesse gráfico, podemos acompanhar o faturamento diário de toda nossa base, e com esses dados históricos(4meses) poder realizar uma previsão de faturamento para os próximos 30 dias. Adicionei uma *tool tip* que também nos mostra a quantidade de vendas no dia selecionado, e a distribuição dessas vendas pelas categorias de produtos."
   ]
  },
  {
   "cell_type": "markdown",
   "id": "c2bf224f",
   "metadata": {},
   "source": [
    "**Faturamento por Categoria de Produto**\n",
    "- Um gráfico de colunas onde podemos acompanhar o faturamento das vendas distribuídos por categoria de produtos."
   ]
  },
  {
   "cell_type": "markdown",
   "id": "8ea6a97e",
   "metadata": {},
   "source": [
    "**Quantidade de Vendas por Categoria de Produto**\n",
    "- Outro gráfico de colunas onde podemos acompanhar a quantidade de vendas distribuída por categoria de produtos."
   ]
  },
  {
   "cell_type": "markdown",
   "id": "e4fa8a37",
   "metadata": {},
   "source": [
    "**Faturamento por Forma de Pagamento**\n",
    "- Um gráfico de rosca com 3 atributos que representam a porcentagem e os valores de cada tipo de pagamento realizado nas vendas."
   ]
  },
  {
   "cell_type": "markdown",
   "id": "a29d22ce",
   "metadata": {},
   "source": [
    "**KPI'S**\n",
    "- Faturamento da data selecionada e uma comparação em porcentagem com o dia anterior\n",
    "- Ticket Médio da venda da data selecionada e uma comparação em porcentagem com o dia anterior\n",
    "- Taxa de Compras Aprovadas calculada em porcentagem, mostra a taxa de compras aprovadas em relação as todas as compras feitas na data selecionada\n",
    "- Receita da data selecionada e uma comparação em porcentagem com o dia anterior\n",
    "- Gráficos de Tachometer na parte superior da página com as metas mensais fixadas\n"
   ]
  },
  {
   "cell_type": "markdown",
   "id": "f8c73f8d",
   "metadata": {},
   "source": [
    "## Relatório de Produtos"
   ]
  },
  {
   "cell_type": "markdown",
   "id": "3103448b",
   "metadata": {},
   "source": [
    "<img src=\"https://raw.githubusercontent.com/rgizzzzzzz/testes/main/Captura%20de%20Tela%20(13).png\" alt=\"drawing\" width=\"600\"/>"
   ]
  },
  {
   "cell_type": "markdown",
   "id": "c20a14da",
   "metadata": {},
   "source": [
    "Para o relatório de produtos, utilizei os seguintes indicadores e visualizações:"
   ]
  },
  {
   "cell_type": "markdown",
   "id": "f930582b",
   "metadata": {},
   "source": [
    "**Tabela com informações sobre cada produto**\n",
    "- Quantidade Vendida, Faturamento, Receita, Custo, Roi, Taxa de Aprovação e Feedback\n"
   ]
  },
  {
   "cell_type": "markdown",
   "id": "0357321a",
   "metadata": {},
   "source": [
    "**Tabela com Sugestão de carrinho de compras**\n",
    "- Contendo medidas de Confiança, Lift e a Quantidade de clientes diferentes que compraram os mesmos produtos "
   ]
  },
  {
   "cell_type": "markdown",
   "id": "4335827e",
   "metadata": {},
   "source": [
    "**Faturamento por Localidade**\n",
    "- Um gráfico de mapa com a geolocalização de Faturamento por produto\n"
   ]
  },
  {
   "cell_type": "markdown",
   "id": "456692e6",
   "metadata": {},
   "source": [
    "**Curva ABC**\n",
    "- Um gráfico de tabela com a curva ABC de todos os produtos, onde o produto de categoria A acumula faturamento de 70% do faturamento total da empresa, produto da categoria B acumula 20% e a categoria C acumula 10% do total.\n"
   ]
  },
  {
   "cell_type": "markdown",
   "id": "2d6a937c",
   "metadata": {},
   "source": [
    "## Relatório de Logística"
   ]
  },
  {
   "cell_type": "markdown",
   "id": "e8ab2b3c",
   "metadata": {},
   "source": [
    "<img src=\"https://raw.githubusercontent.com/rgizzzzzzz/testes/main/Captura%20de%20Tela%20(14)-crop.png\" alt=\"drawing\" width=\"600\"/>"
   ]
  },
  {
   "cell_type": "markdown",
   "id": "bda51596",
   "metadata": {},
   "source": [
    "Para o relatório de logística, utilizei os seguintes indicadores e visualizações:"
   ]
  },
  {
   "cell_type": "markdown",
   "id": "714013b2",
   "metadata": {},
   "source": [
    "**Tabela de Estoque e Curva ABC**\n",
    "- Um gráfico de tabela com a curva ABC de todos os produtos em estoque, a quantidade do produto em estoque podendo ser filtrada pelo mês, o estoque médio do mês, a quantidade vendida do produto(saída de estoque), rotação da reposição do estoque e a taxa de compra e venda do produto."
   ]
  },
  {
   "cell_type": "markdown",
   "id": "6e6fea08",
   "metadata": {},
   "source": [
    "**Quantidade em Estoque**\n",
    "- O gráfico de árvore hierárquica nos mostra a divisão do estoque total em Categoria, Marca e Produtos presentes no estoque."
   ]
  },
  {
   "cell_type": "markdown",
   "id": "3924efd1",
   "metadata": {},
   "source": [
    "**Atrasos**"
   ]
  },
  {
   "cell_type": "markdown",
   "id": "d16db123",
   "metadata": {},
   "source": [
    "- Um gráfico de mapa que nos mostra as Entregas em Atraso nas regiões do país."
   ]
  },
  {
   "cell_type": "markdown",
   "id": "51b4d343",
   "metadata": {},
   "source": [
    "**KPI'S**\n",
    "- Lead das entregas em dias\n",
    "- Valor do frete\n",
    "- Quantidade de pedidos atrasados\n",
    "- Taxa de devoluções de pedidos"
   ]
  },
  {
   "cell_type": "markdown",
   "id": "d9fb2b82",
   "metadata": {},
   "source": [
    "## Relatório de Marketing"
   ]
  },
  {
   "cell_type": "markdown",
   "id": "7fc2edea",
   "metadata": {},
   "source": [
    "<img src=\"https://raw.githubusercontent.com/rgizzzzzzz/testes/main/Captura%20de%20Tela%20(15)-crop.png\" alt=\"drawing\" width=\"600\"/>"
   ]
  },
  {
   "cell_type": "markdown",
   "id": "91b63b36",
   "metadata": {},
   "source": [
    "Para o relatório de marketing, utilizei os seguintes indicadores e visualizações:"
   ]
  },
  {
   "cell_type": "markdown",
   "id": "d6899117",
   "metadata": {},
   "source": [
    "**Taxa de Conversão**\n",
    "- Gráfico de área que nos mostra a Taxa de Conversão mensal da campanha de anúncio "
   ]
  },
  {
   "cell_type": "markdown",
   "id": "26b21737",
   "metadata": {},
   "source": [
    "**Conversão por Dispositivo**\n",
    "- Com 3 atributos, o gráfico de rosca nos mostra a Taxa de Conversão e Receita da campanha para cada tipo de acesso nos dispositivos"
   ]
  },
  {
   "cell_type": "markdown",
   "id": "c38ae692",
   "metadata": {},
   "source": [
    "**Taxa de Rejeição por Dispositivo**\n",
    "- Gráfico de linha com 3 atributos onde podemos observar um histórico mensal da Taxa de Rejeição da campanha(Número de pessoas que entraram no site, mas não compraram)"
   ]
  },
  {
   "cell_type": "markdown",
   "id": "06856f67",
   "metadata": {},
   "source": [
    "**Conversão por Localização**\n",
    "- Um gráfico de mapa que mostra a quantidade de Conversões por estado"
   ]
  },
  {
   "cell_type": "markdown",
   "id": "592b3e25",
   "metadata": {},
   "source": [
    "**KPI'S**\n",
    "- Roas(Retorno da campanha de marketing)\n",
    "- Cpa(Custo médio de aquisição de novos clientes)\n",
    "- Taxa de conversão\n",
    "- Cpc(Custo médio por cliques)\n",
    "- Taxa de Rejeição"
   ]
  },
  {
   "cell_type": "markdown",
   "id": "917e13ba",
   "metadata": {},
   "source": [
    "## Relatório de Cenário"
   ]
  },
  {
   "cell_type": "markdown",
   "id": "e80d9e60",
   "metadata": {},
   "source": [
    "<img src=\"https://raw.githubusercontent.com/rgizzzzzzz/testes/main/Captura%20de%20Tela%20(16)-crop.png\" alt=\"drawing\" width=\"600\"/>"
   ]
  },
  {
   "cell_type": "markdown",
   "id": "ba866285",
   "metadata": {},
   "source": [
    "Para o relatório de cenário, utilizei os seguintes indicadores e visualizações:"
   ]
  },
  {
   "cell_type": "markdown",
   "id": "6012128b",
   "metadata": {},
   "source": [
    "**Tabela com todos os produtos**\n",
    "- Com Ranking de produto por Faturamento e Curva ABC"
   ]
  },
  {
   "cell_type": "markdown",
   "id": "008e4be7",
   "metadata": {},
   "source": [
    "**Faturamento**\n",
    "- Gráfico de colunas com o Faturamento mensal das vendas"
   ]
  },
  {
   "cell_type": "markdown",
   "id": "9df61c34",
   "metadata": {},
   "source": [
    "**Faturamento Novo Cenário**\n",
    "- Gráfico de colunas com o cenário definido na segmentação de dados para Faturamento mensal das vendas"
   ]
  },
  {
   "cell_type": "markdown",
   "id": "f883bec1",
   "metadata": {},
   "source": [
    "**Segmentação de dados**\n",
    "- Com dois tipos de segmentação. Um por aumento ou diminuição nas vendas(Demanda) e outro de aumento ou diminuição do Valor Unitário dos produtos "
   ]
  },
  {
   "cell_type": "markdown",
   "id": "63352738",
   "metadata": {},
   "source": [
    "**KPI'S**\n",
    "- Quantidade vendida \n",
    "- Faturamento\n",
    "- Variação Percentual do faturamento atual com o novo cenário\n",
    "- Valor da Diferença do novo cenário com o faturamento atual"
   ]
  },
  {
   "cell_type": "markdown",
   "id": "6b996ff2",
   "metadata": {},
   "source": [
    "----"
   ]
  },
  {
   "cell_type": "markdown",
   "id": "3fd7e09a",
   "metadata": {},
   "source": [
    "Esse foi o projeto desenvolvido para a tomada de decisão baseada nos dados de cada segmento da empresa.\n",
    "Segue abaixo o **Dashboard** desenvolvido no **Power Bi** para o projeto:"
   ]
  },
  {
   "cell_type": "code",
   "execution_count": 6,
   "id": "2c9cd111",
   "metadata": {},
   "outputs": [],
   "source": [
    "from IPython.display import HTML\n"
   ]
  },
  {
   "cell_type": "code",
   "execution_count": 13,
   "id": "197bda80",
   "metadata": {},
   "outputs": [
    {
     "data": {
      "text/html": [
       "\n",
       "        <iframe\n",
       "            width=\"1000\"\n",
       "            height=\"600\"\n",
       "            src=\"https://app.powerbi.com/view?r=eyJrIjoiYTk3ZWFlNDEtODVhNi00OTljLTg2NTMtYTI2ZTMyYmY2NGUyIiwidCI6IjEzYmQ1OTdiLTc4MGUtNGQxYi1iZTY2LTk3YTk4ZjM3ZGI4OSJ9\"\n",
       "            frameborder=\"0\"\n",
       "            allowfullscreen\n",
       "            \n",
       "        ></iframe>\n",
       "        "
      ],
      "text/plain": [
       "<IPython.lib.display.IFrame at 0x22771fbfd60>"
      ]
     },
     "metadata": {},
     "output_type": "display_data"
    }
   ],
   "source": [
    "from IPython.display import IFrame\n",
    "\n",
    "url = \"https://app.powerbi.com/view?r=eyJrIjoiYTk3ZWFlNDEtODVhNi00OTljLTg2NTMtYTI2ZTMyYmY2NGUyIiwidCI6IjEzYmQ1OTdiLTc4MGUtNGQxYi1iZTY2LTk3YTk4ZjM3ZGI4OSJ9\"\n",
    "iframe = IFrame(url, width=1000, height=600)\n",
    "display(iframe)\n"
   ]
  },
  {
   "cell_type": "code",
   "execution_count": null,
   "id": "f85a1358",
   "metadata": {},
   "outputs": [],
   "source": []
  }
 ],
 "metadata": {
  "kernelspec": {
   "display_name": "Python 3 (ipykernel)",
   "language": "python",
   "name": "python3"
  },
  "language_info": {
   "codemirror_mode": {
    "name": "ipython",
    "version": 3
   },
   "file_extension": ".py",
   "mimetype": "text/x-python",
   "name": "python",
   "nbconvert_exporter": "python",
   "pygments_lexer": "ipython3",
   "version": "3.9.12"
  }
 },
 "nbformat": 4,
 "nbformat_minor": 5
}
